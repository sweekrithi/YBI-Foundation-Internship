{
  "nbformat": 4,
  "nbformat_minor": 0,
  "metadata": {
    "colab": {
      "name": "Sweekrithi_Financial Market News Sentiment Analysis.ipynb",
      "provenance": []
    },
    "kernelspec": {
      "name": "python3",
      "display_name": "Python 3"
    },
    "language_info": {
      "name": "python"
    }
  },
  "cells": [
    {
      "cell_type": "code",
      "execution_count": 1,
      "metadata": {
        "id": "O-lL8xPZcfM4"
      },
      "outputs": [],
      "source": [
        "import pandas as pd\n",
        "import numpy as np"
      ]
    },
    {
      "cell_type": "code",
      "source": [
        "df = pd.read_csv(r'https://raw.githubusercontent.com/ybifoundation/Dataset/main/Financial%20Market%20News.csv', encoding = 'ISO-8859-1')\n",
        "print(df.head())"
      ],
      "metadata": {
        "colab": {
          "base_uri": "https://localhost:8080/"
        },
        "id": "2FT6w1e1dMsv",
        "outputId": "52bae51c-647a-4522-94af-caa95be2e71d"
      },
      "execution_count": 4,
      "outputs": [
        {
          "output_type": "stream",
          "name": "stdout",
          "text": [
            "         Date  Label                                             News 1  \\\n",
            "0  01-01-2010      0           McIlroy's men catch cold from Gudjonsson   \n",
            "1  02-01-2010      0               Warning from history points to crash   \n",
            "2  03-01-2010      0      Comment: Why Israel's peaceniks feel betrayed   \n",
            "3  04-01-2010      1             £750,000-a-goal Weah aims parting shot   \n",
            "4  05-01-2010      1  Leeds arrive in Turkey to the silence of the fans   \n",
            "\n",
            "                                       News 2  \\\n",
            "0                       Obituary: Brian Walsh   \n",
            "1              Investors flee to dollar haven   \n",
            "2  Court deals blow to seizure of drug assets   \n",
            "3            Newcastle pay for Fletcher years   \n",
            "4     One woman's vision offers loan lifeline   \n",
            "\n",
            "                                            News 3  \\\n",
            "0       Workplace blues leave employers in the red   \n",
            "1                      Banks and tobacco in favour   \n",
            "2                       An ideal target for spooks   \n",
            "3  Brown sent to the stands for Scotland qualifier   \n",
            "4          Working Lives: How world leaders worked   \n",
            "\n",
            "                                        News 4  \\\n",
            "0                     Classical review: Rattle   \n",
            "1                        Review: Llama Farmers   \n",
            "2  World steps between two sides intent on war   \n",
            "3         Tourists wary of breaking new ground   \n",
            "4           Working Lives: Tricks of the trade   \n",
            "\n",
            "                                              News 5  \\\n",
            "0                     Dance review: Merce Cunningham   \n",
            "1                       War jitters lead to sell-off   \n",
            "2                       What the region's papers say   \n",
            "3              Canary Wharf climbs into the FTSE 100   \n",
            "4  Working Lives: six-hour days, long lunches and...   \n",
            "\n",
            "                                         News 6  \\\n",
            "0  Genetic tests to be used in setting premiums   \n",
            "1                    Your not-so-secret history   \n",
            "2           Comment: Fear and rage in Palestine   \n",
            "3                           Review: Bill Bailey   \n",
            "4                        Pop review: We Love UK   \n",
            "\n",
            "                                          News 7  \\\n",
            "0                        Opera review: La Bohème   \n",
            "1                  Review: The Northern Sinfonia   \n",
            "2  Poverty and resentment fuels Palestinian fury   \n",
            "3                              Review: Classical   \n",
            "4               World music review: Marisa Monte   \n",
            "\n",
            "                                        News 8  ...  \\\n",
            "0                   Pop review: Britney Spears  ...   \n",
            "1                             Review: Hysteria  ...   \n",
            "2  Republican feud fear as dissident is killed  ...   \n",
            "3              Review: New Contemporaries 2000  ...   \n",
            "4             Art review:  Hollingsworth/Heyer  ...   \n",
            "\n",
            "                                News 16                              News 17  \\\n",
            "0                 Finland 0 - 0 England                   Healy a marked man   \n",
            "1  Why Wenger will stick to his Gunners  Out of luck England hit rock bottom   \n",
            "2             FTSE goes upwardly mobile             At this price?  BP Amoco   \n",
            "3         More cash on way for counties      Cairns carries Kiwis to victory   \n",
            "4          Duisenberg in double trouble           Pru to cut pension charges   \n",
            "\n",
            "                                             News 18  \\\n",
            "0                     Happy birthday Harpers & Queen   \n",
            "1                         Wilkinson out of his depth   \n",
            "2                                            Go fish   \n",
            "3  Year of Blanchflower's flourish when Spurs sto...   \n",
            "4                            Art review: Paul Graham   \n",
            "\n",
            "                                             News 19  \\\n",
            "0  Win unlimited access to the Raindance film fes...   \n",
            "1                   Kinsella sparks Irish power play   \n",
            "2         Bosnian Serb blows himself up to evade law   \n",
            "3      New direct approach brings only pay-per-blues   \n",
            "4               Shearer shot sparks Boro humiliation   \n",
            "\n",
            "                                             News 20  \\\n",
            "0  Labour pledges £800m to bridge north-south divide   \n",
            "1                    Brown banished as Scots rebound   \n",
            "2                       Orange float delayed to 2001   \n",
            "3                           Third Division  round-up   \n",
            "4  Ridsdale's lingering fears as Leeds revisit Tu...   \n",
            "\n",
            "                                             News 21  \\\n",
            "0       Wales: Lib-Lab pact firm despite resignation   \n",
            "1                   Battling Wales cling to lifeline   \n",
            "2  Angry factory workers root out fear, favours a...   \n",
            "3                          Second Division  round-up   \n",
            "4            Champions League: Rangers v Galatasaray   \n",
            "\n",
            "                              News 22  \\\n",
            "0                        Donald Dewar   \n",
            "1   Ehiogu close to sealing Boro move   \n",
            "2  Smith defied advice on dome payout   \n",
            "3            First Division  round-up   \n",
            "4   Champions League: Lazio v Arsenal   \n",
            "\n",
            "                                             News 23  \\\n",
            "0  Regenerating homes  regenerates well-being in ...   \n",
            "1                                 Man-to-man marking   \n",
            "2                        Xerox takes the axe to jobs   \n",
            "3                McLean ends his career with a punch   \n",
            "4                                Lazio 1 - 1 Arsenal   \n",
            "\n",
            "                        News 24  \\\n",
            "0   Win £100 worth of underwear   \n",
            "1                   Match stats   \n",
            "2  Comment: Refugees in Britain   \n",
            "3     Heskey grabs triple crown   \n",
            "4           England in Pakistan   \n",
            "\n",
            "                                             News 25  \n",
            "0                             TV guide: Random views  \n",
            "1  French referee at centre of storm is no strang...  \n",
            "2              Maverick who sparked the new intifada  \n",
            "3                   Weah on his way as City march on  \n",
            "4               England given olive-branch reception  \n",
            "\n",
            "[5 rows x 27 columns]\n"
          ]
        }
      ]
    },
    {
      "cell_type": "code",
      "source": [
        "df.info()"
      ],
      "metadata": {
        "colab": {
          "base_uri": "https://localhost:8080/"
        },
        "id": "AHbNikyPdcMd",
        "outputId": "7028145b-14f6-4821-bbc7-4ae6e278286b"
      },
      "execution_count": 5,
      "outputs": [
        {
          "output_type": "stream",
          "name": "stdout",
          "text": [
            "<class 'pandas.core.frame.DataFrame'>\n",
            "RangeIndex: 4101 entries, 0 to 4100\n",
            "Data columns (total 27 columns):\n",
            " #   Column   Non-Null Count  Dtype \n",
            "---  ------   --------------  ----- \n",
            " 0   Date     4101 non-null   object\n",
            " 1   Label    4101 non-null   int64 \n",
            " 2   News 1   4101 non-null   object\n",
            " 3   News 2   4101 non-null   object\n",
            " 4   News 3   4101 non-null   object\n",
            " 5   News 4   4101 non-null   object\n",
            " 6   News 5   4101 non-null   object\n",
            " 7   News 6   4101 non-null   object\n",
            " 8   News 7   4101 non-null   object\n",
            " 9   News 8   4101 non-null   object\n",
            " 10  News 9   4101 non-null   object\n",
            " 11  News 10  4101 non-null   object\n",
            " 12  News 11  4101 non-null   object\n",
            " 13  News 12  4101 non-null   object\n",
            " 14  News 13  4101 non-null   object\n",
            " 15  News 14  4101 non-null   object\n",
            " 16  News 15  4101 non-null   object\n",
            " 17  News 16  4101 non-null   object\n",
            " 18  News 17  4101 non-null   object\n",
            " 19  News 18  4101 non-null   object\n",
            " 20  News 19  4101 non-null   object\n",
            " 21  News 20  4101 non-null   object\n",
            " 22  News 21  4101 non-null   object\n",
            " 23  News 22  4101 non-null   object\n",
            " 24  News 23  4100 non-null   object\n",
            " 25  News 24  4098 non-null   object\n",
            " 26  News 25  4098 non-null   object\n",
            "dtypes: int64(1), object(26)\n",
            "memory usage: 865.2+ KB\n"
          ]
        }
      ]
    },
    {
      "cell_type": "code",
      "source": [
        "df.describe()"
      ],
      "metadata": {
        "colab": {
          "base_uri": "https://localhost:8080/",
          "height": 300
        },
        "id": "VUf67zJdd3ZR",
        "outputId": "8cde186e-aa52-4498-8b19-b328b0ce62c3"
      },
      "execution_count": 6,
      "outputs": [
        {
          "output_type": "execute_result",
          "data": {
            "text/plain": [
              "             Label\n",
              "count  4101.000000\n",
              "mean      0.528164\n",
              "std       0.499267\n",
              "min       0.000000\n",
              "25%       0.000000\n",
              "50%       1.000000\n",
              "75%       1.000000\n",
              "max       1.000000"
            ],
            "text/html": [
              "\n",
              "  <div id=\"df-4e8f5a44-0710-4db0-97a2-7bf2bf60d552\">\n",
              "    <div class=\"colab-df-container\">\n",
              "      <div>\n",
              "<style scoped>\n",
              "    .dataframe tbody tr th:only-of-type {\n",
              "        vertical-align: middle;\n",
              "    }\n",
              "\n",
              "    .dataframe tbody tr th {\n",
              "        vertical-align: top;\n",
              "    }\n",
              "\n",
              "    .dataframe thead th {\n",
              "        text-align: right;\n",
              "    }\n",
              "</style>\n",
              "<table border=\"1\" class=\"dataframe\">\n",
              "  <thead>\n",
              "    <tr style=\"text-align: right;\">\n",
              "      <th></th>\n",
              "      <th>Label</th>\n",
              "    </tr>\n",
              "  </thead>\n",
              "  <tbody>\n",
              "    <tr>\n",
              "      <th>count</th>\n",
              "      <td>4101.000000</td>\n",
              "    </tr>\n",
              "    <tr>\n",
              "      <th>mean</th>\n",
              "      <td>0.528164</td>\n",
              "    </tr>\n",
              "    <tr>\n",
              "      <th>std</th>\n",
              "      <td>0.499267</td>\n",
              "    </tr>\n",
              "    <tr>\n",
              "      <th>min</th>\n",
              "      <td>0.000000</td>\n",
              "    </tr>\n",
              "    <tr>\n",
              "      <th>25%</th>\n",
              "      <td>0.000000</td>\n",
              "    </tr>\n",
              "    <tr>\n",
              "      <th>50%</th>\n",
              "      <td>1.000000</td>\n",
              "    </tr>\n",
              "    <tr>\n",
              "      <th>75%</th>\n",
              "      <td>1.000000</td>\n",
              "    </tr>\n",
              "    <tr>\n",
              "      <th>max</th>\n",
              "      <td>1.000000</td>\n",
              "    </tr>\n",
              "  </tbody>\n",
              "</table>\n",
              "</div>\n",
              "      <button class=\"colab-df-convert\" onclick=\"convertToInteractive('df-4e8f5a44-0710-4db0-97a2-7bf2bf60d552')\"\n",
              "              title=\"Convert this dataframe to an interactive table.\"\n",
              "              style=\"display:none;\">\n",
              "        \n",
              "  <svg xmlns=\"http://www.w3.org/2000/svg\" height=\"24px\"viewBox=\"0 0 24 24\"\n",
              "       width=\"24px\">\n",
              "    <path d=\"M0 0h24v24H0V0z\" fill=\"none\"/>\n",
              "    <path d=\"M18.56 5.44l.94 2.06.94-2.06 2.06-.94-2.06-.94-.94-2.06-.94 2.06-2.06.94zm-11 1L8.5 8.5l.94-2.06 2.06-.94-2.06-.94L8.5 2.5l-.94 2.06-2.06.94zm10 10l.94 2.06.94-2.06 2.06-.94-2.06-.94-.94-2.06-.94 2.06-2.06.94z\"/><path d=\"M17.41 7.96l-1.37-1.37c-.4-.4-.92-.59-1.43-.59-.52 0-1.04.2-1.43.59L10.3 9.45l-7.72 7.72c-.78.78-.78 2.05 0 2.83L4 21.41c.39.39.9.59 1.41.59.51 0 1.02-.2 1.41-.59l7.78-7.78 2.81-2.81c.8-.78.8-2.07 0-2.86zM5.41 20L4 18.59l7.72-7.72 1.47 1.35L5.41 20z\"/>\n",
              "  </svg>\n",
              "      </button>\n",
              "      \n",
              "  <style>\n",
              "    .colab-df-container {\n",
              "      display:flex;\n",
              "      flex-wrap:wrap;\n",
              "      gap: 12px;\n",
              "    }\n",
              "\n",
              "    .colab-df-convert {\n",
              "      background-color: #E8F0FE;\n",
              "      border: none;\n",
              "      border-radius: 50%;\n",
              "      cursor: pointer;\n",
              "      display: none;\n",
              "      fill: #1967D2;\n",
              "      height: 32px;\n",
              "      padding: 0 0 0 0;\n",
              "      width: 32px;\n",
              "    }\n",
              "\n",
              "    .colab-df-convert:hover {\n",
              "      background-color: #E2EBFA;\n",
              "      box-shadow: 0px 1px 2px rgba(60, 64, 67, 0.3), 0px 1px 3px 1px rgba(60, 64, 67, 0.15);\n",
              "      fill: #174EA6;\n",
              "    }\n",
              "\n",
              "    [theme=dark] .colab-df-convert {\n",
              "      background-color: #3B4455;\n",
              "      fill: #D2E3FC;\n",
              "    }\n",
              "\n",
              "    [theme=dark] .colab-df-convert:hover {\n",
              "      background-color: #434B5C;\n",
              "      box-shadow: 0px 1px 3px 1px rgba(0, 0, 0, 0.15);\n",
              "      filter: drop-shadow(0px 1px 2px rgba(0, 0, 0, 0.3));\n",
              "      fill: #FFFFFF;\n",
              "    }\n",
              "  </style>\n",
              "\n",
              "      <script>\n",
              "        const buttonEl =\n",
              "          document.querySelector('#df-4e8f5a44-0710-4db0-97a2-7bf2bf60d552 button.colab-df-convert');\n",
              "        buttonEl.style.display =\n",
              "          google.colab.kernel.accessAllowed ? 'block' : 'none';\n",
              "\n",
              "        async function convertToInteractive(key) {\n",
              "          const element = document.querySelector('#df-4e8f5a44-0710-4db0-97a2-7bf2bf60d552');\n",
              "          const dataTable =\n",
              "            await google.colab.kernel.invokeFunction('convertToInteractive',\n",
              "                                                     [key], {});\n",
              "          if (!dataTable) return;\n",
              "\n",
              "          const docLinkHtml = 'Like what you see? Visit the ' +\n",
              "            '<a target=\"_blank\" href=https://colab.research.google.com/notebooks/data_table.ipynb>data table notebook</a>'\n",
              "            + ' to learn more about interactive tables.';\n",
              "          element.innerHTML = '';\n",
              "          dataTable['output_type'] = 'display_data';\n",
              "          await google.colab.output.renderOutput(dataTable, element);\n",
              "          const docLink = document.createElement('div');\n",
              "          docLink.innerHTML = docLinkHtml;\n",
              "          element.appendChild(docLink);\n",
              "        }\n",
              "      </script>\n",
              "    </div>\n",
              "  </div>\n",
              "  "
            ]
          },
          "metadata": {},
          "execution_count": 6
        }
      ]
    },
    {
      "cell_type": "code",
      "source": [
        "print(df.columns)\n",
        "print(df.shape)"
      ],
      "metadata": {
        "colab": {
          "base_uri": "https://localhost:8080/"
        },
        "id": "VR9_z-GSd4YW",
        "outputId": "93ed52e0-f7ad-4083-d297-58e1439fa98a"
      },
      "execution_count": 7,
      "outputs": [
        {
          "output_type": "stream",
          "name": "stdout",
          "text": [
            "Index(['Date', 'Label', 'News 1', 'News 2', 'News 3', 'News 4', 'News 5',\n",
            "       'News 6', 'News 7', 'News 8', 'News 9', 'News 10', 'News 11', 'News 12',\n",
            "       'News 13', 'News 14', 'News 15', 'News 16', 'News 17', 'News 18',\n",
            "       'News 19', 'News 20', 'News 21', 'News 22', 'News 23', 'News 24',\n",
            "       'News 25'],\n",
            "      dtype='object')\n",
            "(4101, 27)\n"
          ]
        }
      ]
    },
    {
      "cell_type": "code",
      "source": [
        "''.join(str(x) for x in df.iloc[1,2:27])"
      ],
      "metadata": {
        "colab": {
          "base_uri": "https://localhost:8080/",
          "height": 192
        },
        "id": "dciASn8seDcd",
        "outputId": "d83b9ad2-4a41-467d-c55e-3c1fc745dc92"
      },
      "execution_count": 8,
      "outputs": [
        {
          "output_type": "execute_result",
          "data": {
            "text/plain": [
              "\"Warning from history points to crashInvestors flee to dollar havenBanks and tobacco in favourReview: Llama FarmersWar jitters lead to sell-offYour not-so-secret historyReview: The Northern SinfoniaReview: HysteriaReview: The GuardsmanOpera: The Marriage of FigaroReview: The Turk in ItalyDeutsche spells out its plans for diversificationTraders' panic sends oil prices skywardTV sport chief leaves home over romanceLeader: Hi-tech twitchWhy Wenger will stick to his GunnersOut of luck England hit rock bottomWilkinson out of his depthKinsella sparks Irish power playBrown banished as Scots reboundBattling Wales cling to lifelineEhiogu close to sealing Boro moveMan-to-man markingMatch statsFrench referee at centre of storm is no stranger to controversy\""
            ],
            "application/vnd.google.colaboratory.intrinsic+json": {
              "type": "string"
            }
          },
          "metadata": {},
          "execution_count": 8
        }
      ]
    },
    {
      "cell_type": "code",
      "source": [
        "print(df.index)\n",
        "print(len(df.index))"
      ],
      "metadata": {
        "colab": {
          "base_uri": "https://localhost:8080/"
        },
        "id": "1nlrkBYAePEq",
        "outputId": "e8119c0e-694d-4a68-970a-65df397efba5"
      },
      "execution_count": 9,
      "outputs": [
        {
          "output_type": "stream",
          "name": "stdout",
          "text": [
            "RangeIndex(start=0, stop=4101, step=1)\n",
            "4101\n"
          ]
        }
      ]
    },
    {
      "cell_type": "code",
      "source": [
        "news = []\n",
        "for row in range(0, len(df.index)):\n",
        "    news.append(''.join(str(x) for x in df.iloc[row,2:27]))"
      ],
      "metadata": {
        "id": "cMvh39vmeXpd"
      },
      "execution_count": 10,
      "outputs": []
    },
    {
      "cell_type": "code",
      "source": [
        "type(news)"
      ],
      "metadata": {
        "colab": {
          "base_uri": "https://localhost:8080/"
        },
        "id": "S5VO9CkPey03",
        "outputId": "52a82c90-6739-4f3b-a8b5-2db25b1bee37"
      },
      "execution_count": 11,
      "outputs": [
        {
          "output_type": "execute_result",
          "data": {
            "text/plain": [
              "list"
            ]
          },
          "metadata": {},
          "execution_count": 11
        }
      ]
    },
    {
      "cell_type": "code",
      "source": [
        "news[0]"
      ],
      "metadata": {
        "colab": {
          "base_uri": "https://localhost:8080/",
          "height": 192
        },
        "id": "OEoMgaoPe1Uh",
        "outputId": "88eef77c-059f-4a32-ab6d-0d985eea5c5c"
      },
      "execution_count": 12,
      "outputs": [
        {
          "output_type": "execute_result",
          "data": {
            "text/plain": [
              "\"McIlroy's men catch cold from GudjonssonObituary: Brian WalshWorkplace blues leave employers in the redClassical review: RattleDance review: Merce CunninghamGenetic tests to be used in setting premiumsOpera review: La BohèmePop review: Britney SpearsTheatre review: The CircleWales face a fraught nightUnder-21  round-upSmith off to blot his copybookFinns taking the mickeyPraise wasted as Brown studies injury optionsIreland wary of minnowsFinland 0 - 0 EnglandHealy a marked manHappy birthday Harpers & QueenWin unlimited access to the Raindance film festivalLabour pledges £800m to bridge north-south divideWales: Lib-Lab pact firm despite resignationDonald DewarRegenerating homes  regenerates well-being in peopleWin £100 worth of underwearTV guide: Random views\""
            ],
            "application/vnd.google.colaboratory.intrinsic+json": {
              "type": "string"
            }
          },
          "metadata": {},
          "execution_count": 12
        }
      ]
    },
    {
      "cell_type": "code",
      "source": [
        "X = news\n",
        "type(X)"
      ],
      "metadata": {
        "colab": {
          "base_uri": "https://localhost:8080/"
        },
        "id": "ZdFNBtc9e3XJ",
        "outputId": "d8639cc6-4d3e-4791-bbc7-b9d79551c0ad"
      },
      "execution_count": 13,
      "outputs": [
        {
          "output_type": "execute_result",
          "data": {
            "text/plain": [
              "list"
            ]
          },
          "metadata": {},
          "execution_count": 13
        }
      ]
    },
    {
      "cell_type": "code",
      "source": [
        "from sklearn.feature_extraction.text import CountVectorizer\n",
        "cv = CountVectorizer(lowercase = True, ngram_range=(1,1))\n",
        "X = cv.fit_transform(X)\n",
        "X.shape"
      ],
      "metadata": {
        "colab": {
          "base_uri": "https://localhost:8080/"
        },
        "id": "PJ0_LrwNe9cE",
        "outputId": "cc5bea11-a06b-49b0-dd87-4463b3da14d1"
      },
      "execution_count": 15,
      "outputs": [
        {
          "output_type": "execute_result",
          "data": {
            "text/plain": [
              "(4101, 108682)"
            ]
          },
          "metadata": {},
          "execution_count": 15
        }
      ]
    },
    {
      "cell_type": "code",
      "source": [
        "y = df['Label']\n",
        "y.shape"
      ],
      "metadata": {
        "colab": {
          "base_uri": "https://localhost:8080/"
        },
        "id": "PsXOGXtlfYUF",
        "outputId": "d193c5e5-e9b2-4bb4-cb4a-cef33fb293dc"
      },
      "execution_count": 16,
      "outputs": [
        {
          "output_type": "execute_result",
          "data": {
            "text/plain": [
              "(4101,)"
            ]
          },
          "metadata": {},
          "execution_count": 16
        }
      ]
    },
    {
      "cell_type": "code",
      "source": [
        "from sklearn.model_selection import train_test_split\n",
        "X_train, X_test, y_train, y_test = train_test_split(X, y, test_size = 0.3, stratify = y, random_state = 19529)\n",
        "X_train.shape, X_test.shape, y_train.shape, y_test.shape"
      ],
      "metadata": {
        "colab": {
          "base_uri": "https://localhost:8080/"
        },
        "id": "H6Az9cOFffZH",
        "outputId": "af3b5d5c-054c-47e8-cf96-5936447a8492"
      },
      "execution_count": 17,
      "outputs": [
        {
          "output_type": "execute_result",
          "data": {
            "text/plain": [
              "((2870, 108682), (1231, 108682), (2870,), (1231,))"
            ]
          },
          "metadata": {},
          "execution_count": 17
        }
      ]
    },
    {
      "cell_type": "code",
      "source": [
        "from sklearn.ensemble import RandomForestClassifier\n",
        "rf = RandomForestClassifier(n_estimators=200)\n",
        "rf.fit(X_train, y_train)"
      ],
      "metadata": {
        "colab": {
          "base_uri": "https://localhost:8080/"
        },
        "id": "bCC53hltfr1B",
        "outputId": "e140bee4-dcd6-4ddf-eab7-bb729bc56e07"
      },
      "execution_count": 18,
      "outputs": [
        {
          "output_type": "execute_result",
          "data": {
            "text/plain": [
              "RandomForestClassifier(n_estimators=200)"
            ]
          },
          "metadata": {},
          "execution_count": 18
        }
      ]
    },
    {
      "cell_type": "code",
      "source": [
        "y_pred = rf.predict(X_test)\n",
        "print(y_pred.shape)\n",
        "print(y_pred)"
      ],
      "metadata": {
        "colab": {
          "base_uri": "https://localhost:8080/"
        },
        "id": "2dkclXvOgEBq",
        "outputId": "31507217-ea9e-4652-f405-a5fe95d87eda"
      },
      "execution_count": 19,
      "outputs": [
        {
          "output_type": "stream",
          "name": "stdout",
          "text": [
            "(1231,)\n",
            "[0 1 1 ... 1 1 0]\n"
          ]
        }
      ]
    },
    {
      "cell_type": "code",
      "source": [
        "from sklearn.metrics import confusion_matrix, classification_report, accuracy_score\n",
        "confusion_matrix(y_test, y_pred)"
      ],
      "metadata": {
        "colab": {
          "base_uri": "https://localhost:8080/"
        },
        "id": "EvP7KsOngJoL",
        "outputId": "87499b34-55e6-4fe7-a077-200553bbaffc"
      },
      "execution_count": 20,
      "outputs": [
        {
          "output_type": "execute_result",
          "data": {
            "text/plain": [
              "array([[ 97, 484],\n",
              "       [106, 544]])"
            ]
          },
          "metadata": {},
          "execution_count": 20
        }
      ]
    },
    {
      "cell_type": "code",
      "source": [
        "print(classification_report(y_test, y_pred))"
      ],
      "metadata": {
        "colab": {
          "base_uri": "https://localhost:8080/"
        },
        "id": "JRliXoZZgSdi",
        "outputId": "6beb6fb7-ad30-4eaf-d528-a86aaaacf8f6"
      },
      "execution_count": 21,
      "outputs": [
        {
          "output_type": "stream",
          "name": "stdout",
          "text": [
            "              precision    recall  f1-score   support\n",
            "\n",
            "           0       0.48      0.17      0.25       581\n",
            "           1       0.53      0.84      0.65       650\n",
            "\n",
            "    accuracy                           0.52      1231\n",
            "   macro avg       0.50      0.50      0.45      1231\n",
            "weighted avg       0.50      0.52      0.46      1231\n",
            "\n"
          ]
        }
      ]
    }
  ]
}