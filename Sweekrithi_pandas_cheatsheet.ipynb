{
  "nbformat": 4,
  "nbformat_minor": 0,
  "metadata": {
    "colab": {
      "name": "Sweekrithi_pandas_cheatsheet.ipynb",
      "provenance": []
    },
    "kernelspec": {
      "name": "python3",
      "display_name": "Python 3"
    },
    "language_info": {
      "name": "python"
    }
  },
  "cells": [
    {
      "cell_type": "markdown",
      "source": [
        "Pandas, short for panel data is a Python libraray extensively used in Machine Learning. It is similar to Microsoft Excel and Google Speardsheets in many ways."
      ],
      "metadata": {
        "id": "3b2Gi09VfO1V"
      }
    },
    {
      "cell_type": "markdown",
      "source": [
        "How to use pandas library?"
      ],
      "metadata": {
        "id": "B3V_ZBKXgLG3"
      }
    },
    {
      "cell_type": "code",
      "execution_count": 1,
      "metadata": {
        "id": "bUPlJkFhduUv"
      },
      "outputs": [],
      "source": [
        "# import the library\n",
        "import pandas as pd       # pd is the alias for pandas for ease of use"
      ]
    },
    {
      "cell_type": "code",
      "source": [
        "# import the datase\n",
        "df = pd.read_csv('https://github.com/YBI-Foundation/Dataset/raw/main/Titanic.csv') \n",
        "# we can use a URL, file name or file path\n",
        "# df is a DataFrame, a 2-dimensional entity in pandas that stores the dataset"
      ],
      "metadata": {
        "id": "Nhm8rWp2gcQ5"
      },
      "execution_count": 2,
      "outputs": []
    },
    {
      "cell_type": "code",
      "source": [
        "# viewing the dataset and its statistical details\n",
        "\n",
        "df # to view the dataframe\n",
        "\n",
        "df.head()  # to view the first 5 entires \n",
        "df.head(2) # to view the first 2 entires \n",
        "\n",
        "df.tail()  # to view the last 5 \n",
        "df.tail(3) # to view the last 3 \n",
        "\n",
        "df.info()                    # gives information about the dataframe which includes the no. of entires, no of columns, their names and datatypes, so on\n",
        "df.describe()                # gives summary statistics of numerical columns which includes count, mean, median, standard deviation, quartiles, so on\n",
        "df.describe(include = 'all') # gives summary of numerical and non numerical columns which includes count, mean, median, frequency, unique, so on\n",
        "df.shape                     # gives the no. of rows and columns \n",
        "df.columns                   # gives the names of the columns\n",
        "\n",
        "df.name               # retuns a series\n",
        "name = df['name']     # saves the column as series \n",
        "name = df[['name']]   # saves the column as dataframe"
      ],
      "metadata": {
        "id": "Tfljn-kxijQu"
      },
      "execution_count": null,
      "outputs": []
    },
    {
      "cell_type": "code",
      "source": [
        "# to check missing values\n",
        "df.isna().sum()  # 0 indicates that there are no missing values\n",
        "\n",
        "# to drop missing values\n",
        "df = df.dropna()\n",
        "df.isna().sum()  # to verify if the missing values have been dropped\n",
        "\n",
        "# to drop values\n",
        "df = df.drop('age', axis = 1) # axis = 1 indicates that the mentioned object is a column; axis = 0 indicates that the mentioned index/object is a row"
      ],
      "metadata": {
        "id": "bb-XPNK8jRLl"
      },
      "execution_count": null,
      "outputs": []
    },
    {
      "cell_type": "code",
      "source": [
        "# to create a copy pf the dataframe\n",
        "titanic = df.copy() # changes made to df dataframe will not be reflected on titanic dataframe"
      ],
      "metadata": {
        "id": "-hB6YKaHnjiK"
      },
      "execution_count": null,
      "outputs": []
    },
    {
      "cell_type": "code",
      "source": [
        "# to extract unique values from columns\n",
        "\n",
        "df['sex'].unique()                    # gives the names of the categories\n",
        "df['sex'].nunique()                   # gives the no. of categories\n",
        "df[['name']].value_counts()           # gives the count\n",
        "df[['name', 'sex']].value_counts()    # gives the count of the mentioned columns\n",
        "df"
      ],
      "metadata": {
        "id": "gVs01li8o_cN"
      },
      "execution_count": null,
      "outputs": []
    },
    {
      "cell_type": "code",
      "source": [
        "# sorting the dataframe\n",
        "\n",
        "df.sort_values('ticket')                              # soritng is done based on ticket column in ascending order (default)\n",
        "df.sort_values('ticket', ascending = False)           # sorting is done based on ticket coulmn in descending order\n",
        "df.sort_values('ticket', 'pclass', ascending = False) # sorting is first done based on ticket and then based on pclass, in descending order"
      ],
      "metadata": {
        "id": "fyazPlqU3db7"
      },
      "execution_count": null,
      "outputs": []
    },
    {
      "cell_type": "code",
      "source": [
        "# to transpose \n",
        "df.T # converts rows to columns and columns to rows"
      ],
      "metadata": {
        "id": "5ML1MU6D4sxY"
      },
      "execution_count": null,
      "outputs": []
    },
    {
      "cell_type": "code",
      "source": [
        "# indexing and slicing using iloc and loc function\n",
        "\n",
        "df.iloc[0]                      # to extract a single row with index 0\n",
        "df.iloc[1:8]                    # to extract adjacent rows, from index 1-7 (index 8 is excluded)\n",
        "df.iloc[0,4]                    # to extract rows with index 0,4\n",
        "df.iloc[0:3,4]                  # to extract adjacent rows from index 0-2, and a single column with index 4\n",
        "df.iloc[[0,3,15],4]             # to extract selected rows with index 0,3,15, and a single column with index 4\n",
        "df.iloc[0,0:4]                  # to extract single row with index 0 and ajacent columns from index 0-3\n",
        "df.iloc[0,[0,3,2]]              # to to extract single row with index 0, and selected columns with index 0,3,2\n",
        "df.iloc[0:5,0:4]                # to extract adjacent rows from index 0 to 4, and adjacent columns from index 0 to 3\n",
        "df.iloc[[3,15,7,9],[0,1,2]]     # to extract selected rows with index 3,15,7,9, and selected columns with index 0,1,2\n",
        "df.iloc[3:8,[0,4]]              # to extract adjacent rows from index 3 to 7, and selected columns with index 0,4\n",
        "df.iloc[[3,8,12],0:4]           # to extract selected rows with index 3,8,12, and adjacent columns from index 0 to 3\n",
        "df.iloc[:,0:4]                  # to extract all rows and adjacent columns from index 0 to 3\n",
        "df.iloc[:,[0,4]]                # to extract all rows and selected columns with index 0,4\n",
        "df.iloc[[3,6,15],:]             # to extract selected rows with index 3,6,15, and all columns\n",
        "\n",
        "df.loc[100,:]                                 # to extract a single row with index 100 and all columns\n",
        "df.loc[:,['name', 'fare']]                    # to extract all rows, and selected columns with titles name, fare\n",
        "df.loc[[50,25,15],['pclass','age','fare']]    # to extract selected rows with index 50,25,15, and selected columns with titles pclass, age, fare\n",
        "df.loc[10:25,['pclass','fare','age']]         # to extract adjacent rows from index 10 to 24, and selected columns with titles pclass, fare, age"
      ],
      "metadata": {
        "id": "r7CxnfHB5nGm"
      },
      "execution_count": null,
      "outputs": []
    },
    {
      "cell_type": "code",
      "source": [
        "# applying conditions to selection statements\n",
        "\n",
        "df[df['age']>=35]                                  # to extarct rows with value greater than or equal to 35 in age column\n",
        "df.loc[(df['age']>=35),'pclass':'age']             # to extract rows with value greater than or equal to 35 in age column, from columns pclass to age\n",
        "df.loc[(df['age']>=35) & (df['sex'] == 'female')]  # to extract rows with value greater than or equal to 35 in age column, and female in sex column"
      ],
      "metadata": {
        "id": "xiw8rY6w-x4M"
      },
      "execution_count": null,
      "outputs": []
    },
    {
      "cell_type": "code",
      "source": [
        "# to view the correlation\n",
        "df.corr()"
      ],
      "metadata": {
        "id": "eHZ63c_nBltl"
      },
      "execution_count": null,
      "outputs": []
    },
    {
      "cell_type": "code",
      "source": [
        "# to find the largest and smallest values\n",
        "\n",
        "df['age'].nlargest(3)     # returns 3 largest values\n",
        "df['age'].nsmallest(2)    # returns 2 smallest values\n",
        "df['age'].max()           # returns the largest value\n",
        "df['age'].min()           # returns the smallest value"
      ],
      "metadata": {
        "id": "kh0mT-7OBoy8"
      },
      "execution_count": null,
      "outputs": []
    },
    {
      "cell_type": "code",
      "source": [
        "# changing the datatype\n",
        "\n",
        "df['pclass'].astype('object')                     # datatype of class is chnaged from int64 to object; changes not saved in the dataframe\n",
        "df['pclass']=titanic['pclass'].astype('object')   # changes are saved in the dataframe"
      ],
      "metadata": {
        "id": "lJVx3Wo3BzhT"
      },
      "execution_count": null,
      "outputs": []
    },
    {
      "cell_type": "code",
      "source": [
        "# using replace function  \n",
        "\n",
        "df.replace({'sex':{'male':0,'female':1}})                   # encoding is not saved in the dataframe\n",
        "df.replace({'sex':{'male':0,'female':1}}, inplace =True)    # encoding is saved in the dataframe"
      ],
      "metadata": {
        "id": "OkkMwnlKB32v"
      },
      "execution_count": null,
      "outputs": []
    },
    {
      "cell_type": "code",
      "source": [
        "tips = pd.read_csv('https://github.com/YBI-Foundation/Dataset/raw/main/Tips%20Payment%20Data.csv')\n",
        "\n",
        "tips['Tip']/tips['Total Bill']*100  # calculating percenage of tip to total bill\n",
        "\n",
        "tips_percentage=tips['Tip']/tips['Total Bill']*100 # creating a new column called tips_percentage; not saved in the dataframe\n",
        "\n",
        "tips['tips_percentage']=tips['Tip']/tips['Total Bill']*100 # inserting tips_percentage to dataframe\n",
        "\n",
        "tips['tips_percentage']= tips['tips_percentage'].round(1) # rounding off upto one decimal place "
      ],
      "metadata": {
        "id": "fsYF6kPrARQZ"
      },
      "execution_count": 9,
      "outputs": []
    },
    {
      "cell_type": "code",
      "source": [
        "# to set and reset the index\n",
        "\n",
        "tips = tips.set_index('Payment ID')\n",
        "tips = tips.reset_index()"
      ],
      "metadata": {
        "id": "g-W-Sfc9BgMf"
      },
      "execution_count": null,
      "outputs": []
    },
    {
      "cell_type": "markdown",
      "source": [
        "Pandas Profiling"
      ],
      "metadata": {
        "id": "mo8jKo_5E4Hz"
      }
    },
    {
      "cell_type": "code",
      "source": [
        "!pip3 install pandas_profiling --upgrade \n",
        "\n",
        "# import libraries\n",
        "import pandas as pd\n",
        "from pandas_profiling import ProfileReport\n",
        "\n",
        "df = pd.read_csv('https://github.com/YBI-Foundation/Dataset/raw/main/Titanic.csv')  # import dataset\n",
        "df                                                                                  # display dataframe\n",
        "\n",
        "profile = ProfileReport(df)   # generate profile report\n",
        "profile                       # display profile report\n",
        "\n",
        "profile.to_file('df_profile_report.html')  # save profile as html"
      ],
      "metadata": {
        "id": "pf8UHCdbE6aX"
      },
      "execution_count": null,
      "outputs": []
    }
  ]
}