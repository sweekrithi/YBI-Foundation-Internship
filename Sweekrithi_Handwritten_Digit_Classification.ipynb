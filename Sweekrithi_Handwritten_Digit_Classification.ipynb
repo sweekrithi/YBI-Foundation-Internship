{
  "nbformat": 4,
  "nbformat_minor": 0,
  "metadata": {
    "colab": {
      "name": "Sweekrithi_Handwritten Digit Classification.ipynb",
      "provenance": []
    },
    "kernelspec": {
      "name": "python3",
      "display_name": "Python 3"
    },
    "language_info": {
      "name": "python"
    }
  },
  "cells": [
    {
      "cell_type": "code",
      "execution_count": 10,
      "metadata": {
        "id": "FyDY8TlTFXUe"
      },
      "outputs": [],
      "source": [
        "import pandas as pd\n",
        "import numpy as np\n",
        "import matplotlib.pyplot as plt\n",
        "import seaborn as sns"
      ]
    },
    {
      "cell_type": "code",
      "source": [
        "from sklearn.datasets import load_digits\n",
        "df = load_digits()\n",
        "\n",
        "_, axes = plt.subplots(nrows=1, ncols = 4, figsize = (10,3))\n",
        "for ax, image, label in zip(axes, df.images, df.target):\n",
        "    ax.set_axis_off()\n",
        "    ax.imshow(image, cmap = plt.cm.gray_r, interpolation = 'nearest')\n",
        "    ax.set_title = (\"Training: %i\" % label)"
      ],
      "metadata": {
        "colab": {
          "base_uri": "https://localhost:8080/",
          "height": 152
        },
        "id": "H8_Z4H8FFlUh",
        "outputId": "4e262ac9-78fb-4845-e1ae-2fa3c9926bef"
      },
      "execution_count": 11,
      "outputs": [
        {
          "output_type": "display_data",
          "data": {
            "text/plain": [
              "<Figure size 720x216 with 4 Axes>"
            ],
            "image/png": "[encoded data removed]"
          },
          "metadata": {
            "needs_background": "light"
          }
        }
      ]
    },
    {
      "cell_type": "code",
      "source": [
        "df.images.shape"
      ],
      "metadata": {
        "colab": {
          "base_uri": "https://localhost:8080/"
        },
        "id": "qRPNLeCKHLUl",
        "outputId": "0ecfa7a3-9006-4b25-f81a-e303b0bf396d"
      },
      "execution_count": 12,
      "outputs": [
        {
          "output_type": "execute_result",
          "data": {
            "text/plain": [
              "(1797, 8, 8)"
            ]
          },
          "metadata": {},
          "execution_count": 12
        }
      ]
    },
    {
      "cell_type": "code",
      "source": [
        "df.images[0]"
      ],
      "metadata": {
        "colab": {
          "base_uri": "https://localhost:8080/"
        },
        "id": "u8-m2tfYHV4k",
        "outputId": "55ea0dd4-c420-4ee9-daad-478c1737c956"
      },
      "execution_count": 13,
      "outputs": [
        {
          "output_type": "execute_result",
          "data": {
            "text/plain": [
              "array([[ 0.,  0.,  5., 13.,  9.,  1.,  0.,  0.],\n",
              "       [ 0.,  0., 13., 15., 10., 15.,  5.,  0.],\n",
              "       [ 0.,  3., 15.,  2.,  0., 11.,  8.,  0.],\n",
              "       [ 0.,  4., 12.,  0.,  0.,  8.,  8.,  0.],\n",
              "       [ 0.,  5.,  8.,  0.,  0.,  9.,  8.,  0.],\n",
              "       [ 0.,  4., 11.,  0.,  1., 12.,  7.,  0.],\n",
              "       [ 0.,  2., 14.,  5., 10., 12.,  0.,  0.],\n",
              "       [ 0.,  0.,  6., 13., 10.,  0.,  0.,  0.]])"
            ]
          },
          "metadata": {},
          "execution_count": 13
        }
      ]
    },
    {
      "cell_type": "code",
      "source": [
        "df.images[0].shape"
      ],
      "metadata": {
        "colab": {
          "base_uri": "https://localhost:8080/"
        },
        "id": "KBsoWDxvGwYv",
        "outputId": "827b1374-e96f-4e2b-bba7-de1553421cf7"
      },
      "execution_count": 14,
      "outputs": [
        {
          "output_type": "execute_result",
          "data": {
            "text/plain": [
              "(8, 8)"
            ]
          },
          "metadata": {},
          "execution_count": 14
        }
      ]
    },
    {
      "cell_type": "code",
      "source": [
        "n_samples = len(df.images)\n",
        "data = df.images.reshape((n_samples, -1))"
      ],
      "metadata": {
        "id": "XXjiIJkMHkQ6"
      },
      "execution_count": 15,
      "outputs": []
    },
    {
      "cell_type": "code",
      "source": [
        "data[0]"
      ],
      "metadata": {
        "colab": {
          "base_uri": "https://localhost:8080/"
        },
        "id": "2MoCUqRuHr9X",
        "outputId": "12fbecb1-8006-4602-db4a-465593041061"
      },
      "execution_count": 16,
      "outputs": [
        {
          "output_type": "execute_result",
          "data": {
            "text/plain": [
              "array([ 0.,  0.,  5., 13.,  9.,  1.,  0.,  0.,  0.,  0., 13., 15., 10.,\n",
              "       15.,  5.,  0.,  0.,  3., 15.,  2.,  0., 11.,  8.,  0.,  0.,  4.,\n",
              "       12.,  0.,  0.,  8.,  8.,  0.,  0.,  5.,  8.,  0.,  0.,  9.,  8.,\n",
              "        0.,  0.,  4., 11.,  0.,  1., 12.,  7.,  0.,  0.,  2., 14.,  5.,\n",
              "       10., 12.,  0.,  0.,  0.,  0.,  6., 13., 10.,  0.,  0.,  0.])"
            ]
          },
          "metadata": {},
          "execution_count": 16
        }
      ]
    },
    {
      "cell_type": "code",
      "source": [
        "data.min()"
      ],
      "metadata": {
        "colab": {
          "base_uri": "https://localhost:8080/"
        },
        "id": "2sC0gnhdH1EU",
        "outputId": "471010e1-eeba-4711-f091-7fb2078d36eb"
      },
      "execution_count": 17,
      "outputs": [
        {
          "output_type": "execute_result",
          "data": {
            "text/plain": [
              "0.0"
            ]
          },
          "metadata": {},
          "execution_count": 17
        }
      ]
    },
    {
      "cell_type": "code",
      "source": [
        "data.max()"
      ],
      "metadata": {
        "colab": {
          "base_uri": "https://localhost:8080/"
        },
        "id": "P7CQGsGfIGKc",
        "outputId": "2e4b3e52-a244-4548-b064-a1b59399ac32"
      },
      "execution_count": 18,
      "outputs": [
        {
          "output_type": "execute_result",
          "data": {
            "text/plain": [
              "16.0"
            ]
          },
          "metadata": {},
          "execution_count": 18
        }
      ]
    },
    {
      "cell_type": "code",
      "source": [
        "data = data/16\n",
        "print(data.min())\n",
        "print(data.max())\n",
        "print(data[0])"
      ],
      "metadata": {
        "colab": {
          "base_uri": "https://localhost:8080/"
        },
        "id": "799Lly7DII7Y",
        "outputId": "c4cb03f1-e08c-43e4-ae0c-2eac7925fa19"
      },
      "execution_count": 19,
      "outputs": [
        {
          "output_type": "stream",
          "name": "stdout",
          "text": [
            "0.0\n",
            "1.0\n",
            "[0.     0.     0.3125 0.8125 0.5625 0.0625 0.     0.     0.     0.\n",
            " 0.8125 0.9375 0.625  0.9375 0.3125 0.     0.     0.1875 0.9375 0.125\n",
            " 0.     0.6875 0.5    0.     0.     0.25   0.75   0.     0.     0.5\n",
            " 0.5    0.     0.     0.3125 0.5    0.     0.     0.5625 0.5    0.\n",
            " 0.     0.25   0.6875 0.     0.0625 0.75   0.4375 0.     0.     0.125\n",
            " 0.875  0.3125 0.625  0.75   0.     0.     0.     0.     0.375  0.8125\n",
            " 0.625  0.     0.     0.    ]\n"
          ]
        }
      ]
    },
    {
      "cell_type": "code",
      "source": [
        "from sklearn.model_selection import train_test_split\n",
        "Xtrain, Xtest, ytrain, ytest = train_test_split (data,df.target, train_size = 0.7, random_state = 19529)\n",
        "Xtrain.shape, Xtest.shape, ytrain.shape, ytest.shape"
      ],
      "metadata": {
        "colab": {
          "base_uri": "https://localhost:8080/"
        },
        "id": "vickW0GSIbL6",
        "outputId": "414b5c00-d899-4f58-928c-8c5f59af24d1"
      },
      "execution_count": 20,
      "outputs": [
        {
          "output_type": "execute_result",
          "data": {
            "text/plain": [
              "((1257, 64), (540, 64), (1257,), (540,))"
            ]
          },
          "metadata": {},
          "execution_count": 20
        }
      ]
    },
    {
      "cell_type": "code",
      "source": [
        "from sklearn.ensemble import RandomForestClassifier\n",
        "rf = RandomForestClassifier()\n",
        "rf.fit(Xtrain, ytrain)"
      ],
      "metadata": {
        "colab": {
          "base_uri": "https://localhost:8080/"
        },
        "id": "oA-6wSt4I895",
        "outputId": "5813d29c-aa9d-408a-8032-fbf3af8f1137"
      },
      "execution_count": 21,
      "outputs": [
        {
          "output_type": "execute_result",
          "data": {
            "text/plain": [
              "RandomForestClassifier()"
            ]
          },
          "metadata": {},
          "execution_count": 21
        }
      ]
    },
    {
      "cell_type": "code",
      "source": [
        "ypred = rf.predict(Xtest)\n",
        "ypred"
      ],
      "metadata": {
        "colab": {
          "base_uri": "https://localhost:8080/"
        },
        "id": "b7jN9mitKTHu",
        "outputId": "53b860fa-b724-4fac-debf-b0017214e85e"
      },
      "execution_count": 22,
      "outputs": [
        {
          "output_type": "execute_result",
          "data": {
            "text/plain": [
              "array([6, 9, 4, 1, 3, 6, 6, 7, 3, 5, 2, 6, 9, 0, 0, 1, 1, 5, 2, 7, 9, 7,\n",
              "       9, 0, 3, 0, 3, 4, 8, 8, 4, 1, 5, 6, 5, 8, 0, 8, 9, 5, 5, 3, 9, 7,\n",
              "       0, 0, 2, 1, 9, 6, 9, 5, 6, 3, 7, 3, 8, 8, 4, 8, 0, 5, 5, 7, 8, 2,\n",
              "       1, 8, 6, 5, 7, 4, 5, 9, 8, 3, 9, 0, 2, 0, 1, 5, 2, 4, 6, 4, 0, 9,\n",
              "       2, 2, 1, 7, 4, 9, 6, 1, 1, 2, 4, 9, 8, 6, 0, 0, 3, 8, 5, 5, 7, 1,\n",
              "       2, 2, 7, 1, 2, 5, 7, 6, 7, 5, 8, 7, 5, 2, 6, 0, 0, 6, 9, 4, 4, 0,\n",
              "       4, 2, 1, 7, 7, 0, 5, 2, 7, 4, 1, 5, 8, 9, 3, 7, 1, 5, 5, 9, 5, 4,\n",
              "       6, 3, 8, 1, 7, 4, 4, 5, 5, 7, 9, 7, 4, 2, 4, 9, 4, 6, 3, 0, 9, 2,\n",
              "       2, 9, 4, 7, 6, 7, 1, 0, 3, 3, 7, 3, 1, 3, 1, 1, 8, 3, 1, 5, 7, 7,\n",
              "       6, 5, 3, 0, 4, 4, 0, 1, 6, 5, 9, 1, 3, 6, 4, 6, 2, 6, 9, 7, 0, 0,\n",
              "       7, 5, 7, 5, 6, 6, 1, 1, 1, 3, 3, 0, 2, 9, 1, 7, 1, 4, 8, 4, 9, 5,\n",
              "       0, 9, 8, 1, 3, 0, 1, 1, 5, 4, 5, 5, 4, 5, 5, 8, 8, 1, 2, 4, 7, 0,\n",
              "       2, 0, 5, 0, 1, 7, 7, 3, 2, 5, 3, 5, 1, 7, 7, 4, 1, 9, 1, 2, 3, 1,\n",
              "       4, 4, 3, 8, 1, 2, 1, 1, 7, 7, 0, 6, 6, 1, 2, 1, 9, 6, 5, 0, 8, 7,\n",
              "       9, 5, 0, 0, 1, 4, 4, 5, 1, 7, 2, 7, 0, 5, 1, 0, 3, 8, 7, 3, 7, 8,\n",
              "       4, 5, 6, 8, 9, 1, 9, 0, 6, 6, 6, 9, 3, 9, 0, 9, 0, 9, 6, 5, 7, 6,\n",
              "       2, 2, 7, 6, 4, 1, 3, 6, 1, 4, 3, 7, 3, 9, 6, 8, 9, 8, 7, 5, 9, 1,\n",
              "       3, 8, 2, 1, 8, 9, 1, 1, 8, 5, 4, 8, 9, 2, 1, 1, 5, 6, 3, 9, 2, 0,\n",
              "       1, 2, 0, 6, 4, 8, 2, 9, 3, 6, 7, 2, 6, 7, 8, 1, 2, 8, 6, 0, 5, 8,\n",
              "       7, 6, 8, 0, 3, 7, 7, 0, 9, 2, 8, 9, 1, 3, 2, 2, 1, 7, 5, 1, 5, 1,\n",
              "       4, 8, 8, 0, 6, 6, 8, 9, 6, 2, 8, 1, 4, 1, 6, 2, 7, 4, 7, 2, 2, 4,\n",
              "       0, 5, 3, 0, 5, 3, 5, 8, 6, 9, 3, 5, 1, 4, 0, 4, 0, 5, 3, 0, 4, 2,\n",
              "       5, 2, 9, 6, 6, 9, 1, 3, 4, 6, 4, 3, 1, 0, 5, 1, 2, 2, 6, 6, 6, 2,\n",
              "       7, 7, 2, 7, 3, 2, 5, 5, 5, 1, 9, 0, 3, 4, 8, 6, 1, 5, 8, 3, 2, 1,\n",
              "       3, 9, 0, 4, 5, 1, 4, 2, 6, 7, 5, 6])"
            ]
          },
          "metadata": {},
          "execution_count": 22
        }
      ]
    },
    {
      "cell_type": "code",
      "source": [
        "from sklearn.metrics import confusion_matrix, classification_report\n",
        "confusion_matrix(ytest, ypred)"
      ],
      "metadata": {
        "colab": {
          "base_uri": "https://localhost:8080/"
        },
        "id": "DO3sKxUMKcKK",
        "outputId": "43b0782d-cae0-4559-ca94-8c1a312200f8"
      },
      "execution_count": 23,
      "outputs": [
        {
          "output_type": "execute_result",
          "data": {
            "text/plain": [
              "array([[51,  0,  0,  0,  0,  0,  0,  0,  0,  0],\n",
              "       [ 0, 67,  0,  0,  0,  0,  0,  0,  0,  0],\n",
              "       [ 0,  0, 52,  1,  0,  0,  0,  0,  0,  0],\n",
              "       [ 0,  0,  0, 45,  0,  0,  0,  0,  0,  1],\n",
              "       [ 0,  0,  0,  0, 50,  0,  0,  1,  0,  0],\n",
              "       [ 0,  0,  0,  0,  0, 62,  0,  0,  0,  0],\n",
              "       [ 1,  0,  0,  0,  0,  1, 56,  0,  1,  0],\n",
              "       [ 0,  0,  0,  0,  0,  0,  0, 56,  0,  0],\n",
              "       [ 0,  3,  0,  1,  0,  0,  0,  0, 42,  0],\n",
              "       [ 0,  0,  0,  0,  0,  0,  0,  0,  1, 48]])"
            ]
          },
          "metadata": {},
          "execution_count": 23
        }
      ]
    },
    {
      "cell_type": "code",
      "source": [
        "classification_report(ytest, ypred)"
      ],
      "metadata": {
        "colab": {
          "base_uri": "https://localhost:8080/",
          "height": 105
        },
        "id": "luXROgSiK1Qz",
        "outputId": "671d7e9d-df3f-4a5d-a081-7e7241fa2811"
      },
      "execution_count": 25,
      "outputs": [
        {
          "output_type": "execute_result",
          "data": {
            "text/plain": [
              "'              precision    recall  f1-score   support\\n\\n           0       0.98      1.00      0.99        51\\n           1       0.96      1.00      0.98        67\\n           2       1.00      0.98      0.99        53\\n           3       0.96      0.98      0.97        46\\n           4       1.00      0.98      0.99        51\\n           5       0.98      1.00      0.99        62\\n           6       1.00      0.95      0.97        59\\n           7       0.98      1.00      0.99        56\\n           8       0.95      0.91      0.93        46\\n           9       0.98      0.98      0.98        49\\n\\n    accuracy                           0.98       540\\n   macro avg       0.98      0.98      0.98       540\\nweighted avg       0.98      0.98      0.98       540\\n'"
            ],
            "application/vnd.google.colaboratory.intrinsic+json": {
              "type": "string"
            }
          },
          "metadata": {},
          "execution_count": 25
        }
      ]
    }
  ]
}