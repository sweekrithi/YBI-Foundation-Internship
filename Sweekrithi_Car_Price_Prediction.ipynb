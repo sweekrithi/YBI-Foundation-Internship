{
  "nbformat": 4,
  "nbformat_minor": 0,
  "metadata": {
    "colab": {
      "name": "Sweekrithi_Car Price Prediction.ipynb",
      "provenance": []
    },
    "kernelspec": {
      "name": "python3",
      "display_name": "Python 3"
    },
    "language_info": {
      "name": "python"
    }
  },
  "cells": [
    {
      "cell_type": "code",
      "execution_count": null,
      "metadata": {
        "id": "pusHI72UW4ZS"
      },
      "outputs": [],
      "source": [
        "import pandas as pd\n",
        "import numpy as np"
      ]
    },
    {
      "cell_type": "code",
      "source": [
        "df = pd.read_csv('https://raw.githubusercontent.com/ybifoundation/Dataset/main/Car%20Price.csv')\n",
        "print(df.head())\n",
        "print(df.info())\n",
        "print(df.describe())"
      ],
      "metadata": {
        "colab": {
          "base_uri": "https://localhost:8080/"
        },
        "id": "7JqisdF9XQCm",
        "outputId": "3cfa0f1a-d1ef-439a-f0ba-582228532e88"
      },
      "execution_count": null,
      "outputs": [
        {
          "output_type": "stream",
          "name": "stdout",
          "text": [
            "     Brand                     Model  Year  Selling_Price  KM_Driven    Fuel  \\\n",
            "0   Maruti             Maruti 800 AC  2007          60000      70000  Petrol   \n",
            "1   Maruti  Maruti Wagon R LXI Minor  2007         135000      50000  Petrol   \n",
            "2  Hyundai      Hyundai Verna 1.6 SX  2012         600000     100000  Diesel   \n",
            "3   Datsun    Datsun RediGO T Option  2017         250000      46000  Petrol   \n",
            "4    Honda     Honda Amaze VX i-DTEC  2014         450000     141000  Diesel   \n",
            "\n",
            "  Seller_Type Transmission         Owner  \n",
            "0  Individual       Manual   First Owner  \n",
            "1  Individual       Manual   First Owner  \n",
            "2  Individual       Manual   First Owner  \n",
            "3  Individual       Manual   First Owner  \n",
            "4  Individual       Manual  Second Owner  \n",
            "<class 'pandas.core.frame.DataFrame'>\n",
            "RangeIndex: 4340 entries, 0 to 4339\n",
            "Data columns (total 9 columns):\n",
            " #   Column         Non-Null Count  Dtype \n",
            "---  ------         --------------  ----- \n",
            " 0   Brand          4340 non-null   object\n",
            " 1   Model          4340 non-null   object\n",
            " 2   Year           4340 non-null   int64 \n",
            " 3   Selling_Price  4340 non-null   int64 \n",
            " 4   KM_Driven      4340 non-null   int64 \n",
            " 5   Fuel           4340 non-null   object\n",
            " 6   Seller_Type    4340 non-null   object\n",
            " 7   Transmission   4340 non-null   object\n",
            " 8   Owner          4340 non-null   object\n",
            "dtypes: int64(3), object(6)\n",
            "memory usage: 305.3+ KB\n",
            "None\n",
            "              Year  Selling_Price      KM_Driven\n",
            "count  4340.000000   4.340000e+03    4340.000000\n",
            "mean   2013.090783   5.041273e+05   66215.777419\n",
            "std       4.215344   5.785487e+05   46644.102194\n",
            "min    1992.000000   2.000000e+04       1.000000\n",
            "25%    2011.000000   2.087498e+05   35000.000000\n",
            "50%    2014.000000   3.500000e+05   60000.000000\n",
            "75%    2016.000000   6.000000e+05   90000.000000\n",
            "max    2020.000000   8.900000e+06  806599.000000\n"
          ]
        }
      ]
    },
    {
      "cell_type": "code",
      "source": [
        "print(df[['Brand']].value_counts())\n",
        "print(df[['Model']].value_counts())\n",
        "print(df[['Fuel']].value_counts())\n",
        "print(df[['Seller_Type']].value_counts())\n",
        "print(df[['Transmission']].value_counts())\n",
        "print(df[['Owner']].value_counts())"
      ],
      "metadata": {
        "colab": {
          "base_uri": "https://localhost:8080/"
        },
        "id": "Qw1p7WHQYNEj",
        "outputId": "5553aa4f-57e0-49bc-877d-d3549cab248d"
      },
      "execution_count": null,
      "outputs": [
        {
          "output_type": "stream",
          "name": "stdout",
          "text": [
            "Brand        \n",
            "Maruti           1280\n",
            "Hyundai           821\n",
            "Mahindra          365\n",
            "Tata              361\n",
            "Honda             252\n",
            "Ford              238\n",
            "Toyota            206\n",
            "Chevrolet         188\n",
            "Renault           146\n",
            "Volkswagen        107\n",
            "Skoda              68\n",
            "Nissan             64\n",
            "Audi               60\n",
            "BMW                39\n",
            "Fiat               37\n",
            "Datsun             37\n",
            "Mercedes-Benz      35\n",
            "Mitsubishi          6\n",
            "Jaguar              6\n",
            "Land                5\n",
            "Ambassador          4\n",
            "Volvo               4\n",
            "Jeep                3\n",
            "OpelCorsa           2\n",
            "MG                  2\n",
            "Isuzu               1\n",
            "Force               1\n",
            "Daewoo              1\n",
            "Kia                 1\n",
            "dtype: int64\n",
            "Model                               \n",
            "Maruti Swift Dzire VDI                  69\n",
            "Maruti Alto 800 LXI                     59\n",
            "Maruti Alto LXi                         47\n",
            "Hyundai EON Era Plus                    35\n",
            "Maruti Alto LX                          35\n",
            "                                        ..\n",
            "Mahindra KUV 100 G80 K4 Plus             1\n",
            "Mahindra KUV 100 mFALCON D75 K8          1\n",
            "Mahindra KUV 100 mFALCON D75 K8 AW       1\n",
            "Mahindra KUV 100 mFALCON G80 K2 Plus     1\n",
            "Volvo XC60 D5 Inscription                1\n",
            "Length: 1491, dtype: int64\n",
            "Fuel    \n",
            "Diesel      2153\n",
            "Petrol      2123\n",
            "CNG           40\n",
            "LPG           23\n",
            "Electric       1\n",
            "dtype: int64\n",
            "Seller_Type     \n",
            "Individual          3244\n",
            "Dealer               994\n",
            "Trustmark Dealer     102\n",
            "dtype: int64\n",
            "Transmission\n",
            "Manual          3892\n",
            "Automatic        448\n",
            "dtype: int64\n",
            "Owner               \n",
            "First Owner             2832\n",
            "Second Owner            1106\n",
            "Third Owner              304\n",
            "Fourth & Above Owner      81\n",
            "Test Drive Car            17\n",
            "dtype: int64\n"
          ]
        }
      ]
    },
    {
      "cell_type": "code",
      "source": [
        "print(df.columns)\n",
        "print(df.shape)"
      ],
      "metadata": {
        "colab": {
          "base_uri": "https://localhost:8080/"
        },
        "id": "nF88fzloY0ML",
        "outputId": "e3c5ad0b-038b-4b57-a14a-30e0a198ec9f"
      },
      "execution_count": null,
      "outputs": [
        {
          "output_type": "stream",
          "name": "stdout",
          "text": [
            "Index(['Brand', 'Model', 'Year', 'Selling_Price', 'KM_Driven', 'Fuel',\n",
            "       'Seller_Type', 'Transmission', 'Owner'],\n",
            "      dtype='object')\n",
            "(4340, 9)\n"
          ]
        }
      ]
    },
    {
      "cell_type": "code",
      "source": [
        "df.replace({'Fuel':{'Petrol':0, 'Diesel':1, 'CNG':2, 'LPG':3, 'Electric':4}}, inplace = True)\n",
        "df.replace({'Seller_Type':{'Individual':0, 'Dealer':1, 'Trustmark Dealer':2}}, inplace = True)\n",
        "df.replace({'Transmission':{'Manual':0, 'Automatic':1}}, inplace = True)\n",
        "df.replace({'Owner':{'First Owner':0, 'Second Owner':1, 'Third Owner':2, 'Fourth & Above Owner':3, 'Test Drive Car':4}}, inplace = True)"
      ],
      "metadata": {
        "id": "IbTnXQ33Y_we"
      },
      "execution_count": null,
      "outputs": []
    },
    {
      "cell_type": "code",
      "source": [
        "y = df['Selling_Price']\n",
        "print(y.shape)\n",
        "print(y)"
      ],
      "metadata": {
        "colab": {
          "base_uri": "https://localhost:8080/"
        },
        "id": "GO2S-GGfaIlp",
        "outputId": "251de4b9-f096-488e-d5db-1922083b7660"
      },
      "execution_count": null,
      "outputs": [
        {
          "output_type": "stream",
          "name": "stdout",
          "text": [
            "(4340,)\n",
            "0        60000\n",
            "1       135000\n",
            "2       600000\n",
            "3       250000\n",
            "4       450000\n",
            "         ...  \n",
            "4335    409999\n",
            "4336    409999\n",
            "4337    110000\n",
            "4338    865000\n",
            "4339    225000\n",
            "Name: Selling_Price, Length: 4340, dtype: int64\n"
          ]
        }
      ]
    },
    {
      "cell_type": "code",
      "source": [
        "X = df[['Year', 'KM_Driven','Fuel', 'Seller_Type', 'Transmission', 'Owner']]\n",
        "print(X.shape)\n",
        "print(X)"
      ],
      "metadata": {
        "colab": {
          "base_uri": "https://localhost:8080/"
        },
        "id": "xpl4IUVuaPrJ",
        "outputId": "5cd3512f-90ea-47d3-a661-6a242e87d609"
      },
      "execution_count": 36,
      "outputs": [
        {
          "output_type": "stream",
          "name": "stdout",
          "text": [
            "(4340, 6)\n",
            "      Year  KM_Driven  Fuel  Seller_Type  Transmission  Owner\n",
            "0     2007      70000     0            0             0      0\n",
            "1     2007      50000     0            0             0      0\n",
            "2     2012     100000     1            0             0      0\n",
            "3     2017      46000     0            0             0      0\n",
            "4     2014     141000     1            0             0      1\n",
            "...    ...        ...   ...          ...           ...    ...\n",
            "4335  2014      80000     1            0             0      1\n",
            "4336  2014      80000     1            0             0      1\n",
            "4337  2009      83000     0            0             0      1\n",
            "4338  2016      90000     1            0             0      0\n",
            "4339  2016      40000     0            0             0      0\n",
            "\n",
            "[4340 rows x 6 columns]\n"
          ]
        }
      ]
    },
    {
      "cell_type": "code",
      "source": [
        "from sklearn.model_selection import train_test_split\n",
        "X_train, X_test, y_train, y_test = train_test_split(X, y, test_size = 0.3, random_state = 19529)\n",
        "X_train.shape, X_test.shape, y_train.shape, y_test.shape"
      ],
      "metadata": {
        "id": "U29RwkaEatzx",
        "colab": {
          "base_uri": "https://localhost:8080/"
        },
        "outputId": "615a3aa3-3593-4e3a-96cb-57a496663100"
      },
      "execution_count": 37,
      "outputs": [
        {
          "output_type": "execute_result",
          "data": {
            "text/plain": [
              "((3038, 6), (1302, 6), (3038,), (1302,))"
            ]
          },
          "metadata": {},
          "execution_count": 37
        }
      ]
    },
    {
      "cell_type": "code",
      "source": [
        "from sklearn.preprocessing import StandardScaler\n",
        "sc = StandardScaler()\n",
        "X_train = sc.fit_transform(X_train)\n",
        "X_test = sc.fit_transform(X_test)"
      ],
      "metadata": {
        "id": "PIDPJLs7dbrn"
      },
      "execution_count": 38,
      "outputs": []
    },
    {
      "cell_type": "code",
      "source": [
        "from sklearn.linear_model import LinearRegression\n",
        "lr = LinearRegression()\n",
        "lr.fit(X_train, y_train)"
      ],
      "metadata": {
        "colab": {
          "base_uri": "https://localhost:8080/"
        },
        "id": "eEoQ8meMbRIo",
        "outputId": "dde39aa6-3aa6-4802-c8ec-a2965ac7bc32"
      },
      "execution_count": 39,
      "outputs": [
        {
          "output_type": "execute_result",
          "data": {
            "text/plain": [
              "LinearRegression()"
            ]
          },
          "metadata": {},
          "execution_count": 39
        }
      ]
    },
    {
      "cell_type": "code",
      "source": [
        "y_pred = lr.predict(X_test)\n",
        "print(y_pred.shape)\n",
        "print(y_pred)"
      ],
      "metadata": {
        "colab": {
          "base_uri": "https://localhost:8080/"
        },
        "id": "DiR6akjcbpLK",
        "outputId": "a8983439-1058-49f8-fac9-66d7d54e6944"
      },
      "execution_count": 40,
      "outputs": [
        {
          "output_type": "stream",
          "name": "stdout",
          "text": [
            "(1302,)\n",
            "[364842.04798219 251314.27490267 288182.45924613 ... 526744.28071682\n",
            " 570544.47091774 516284.75830899]\n"
          ]
        }
      ]
    },
    {
      "cell_type": "code",
      "source": [
        "from sklearn.metrics import mean_squared_error, mean_absolute_error, r2_score\n",
        "print(mean_squared_error(y_test, y_pred))\n",
        "print(mean_absolute_error(y_test, y_pred))\n",
        "print(r2_score(y_test, y_pred))"
      ],
      "metadata": {
        "colab": {
          "base_uri": "https://localhost:8080/"
        },
        "id": "8k_fjXF2cI7N",
        "outputId": "5eb68c38-255c-4933-8f8d-84a4d434999b"
      },
      "execution_count": 41,
      "outputs": [
        {
          "output_type": "stream",
          "name": "stdout",
          "text": [
            "248185844714.45602\n",
            "246589.18034044874\n",
            "0.4271892651905801\n"
          ]
        }
      ]
    },
    {
      "cell_type": "code",
      "source": [
        "import matplotlib.pyplot as plt\n",
        "plt.scatter(y_test, y_pred)\n",
        "plt.xlabel('Actual Prices')\n",
        "plt.ylabel('Predicted Prices')\n",
        "plt.title('Actual Prive vs Predicted Price')\n",
        "plt.show()"
      ],
      "metadata": {
        "colab": {
          "base_uri": "https://localhost:8080/",
          "height": 295
        },
        "id": "wfoHIDblcKOY",
        "outputId": "695d6516-17e0-4bf2-e3bc-88b966c55ea7"
      },
      "execution_count": 42,
      "outputs": [
        {
          "output_type": "display_data",
          "data": {
            "text/plain": [
              "<Figure size 432x288 with 1 Axes>"
            ],
            "image/png": "[encoded data removed]"
          },
          "metadata": {
            "needs_background": "light"
          }
        }
      ]
    },
    {
      "cell_type": "code",
      "source": [
        "df_new = df.sample(1)\n",
        "print(df_new)\n",
        "print(df_new.shape)\n"
      ],
      "metadata": {
        "colab": {
          "base_uri": "https://localhost:8080/"
        },
        "id": "x0iCQE0udMLX",
        "outputId": "5af86c3c-992b-4bb3-d2e1-7d8a380bcfb0"
      },
      "execution_count": 43,
      "outputs": [
        {
          "output_type": "stream",
          "name": "stdout",
          "text": [
            "       Brand            Model  Year  Selling_Price  KM_Driven  Fuel  \\\n",
            "3044  Maruti  Maruti Ritz VDi  2014         250000     115000     1   \n",
            "\n",
            "      Seller_Type  Transmission  Owner  \n",
            "3044            0             0      0  \n",
            "(1, 9)\n"
          ]
        }
      ]
    },
    {
      "cell_type": "code",
      "source": [
        "X_new = df_new[['Year', 'KM_Driven', 'Fuel', 'Seller_Type', 'Transmission', 'Owner']]\n",
        "X_new = sc.fit_transform(X_new)\n",
        "y_pred_new = lr.predict(X_new)\n",
        "y_pred_new"
      ],
      "metadata": {
        "colab": {
          "base_uri": "https://localhost:8080/"
        },
        "id": "htJClaQud5IS",
        "outputId": "a929644e-5266-4ca8-8769-12a7aff1a6e6"
      },
      "execution_count": 45,
      "outputs": [
        {
          "output_type": "execute_result",
          "data": {
            "text/plain": [
              "array([493141.13857801])"
            ]
          },
          "metadata": {},
          "execution_count": 45
        }
      ]
    }
  ]
}