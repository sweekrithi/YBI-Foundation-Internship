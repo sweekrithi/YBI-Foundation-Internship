{
  "nbformat": 4,
  "nbformat_minor": 0,
  "metadata": {
    "colab": {
      "name": "Sweekrithi_Bike Price Prediction.ipynb",
      "provenance": []
    },
    "kernelspec": {
      "name": "python3",
      "display_name": "Python 3"
    },
    "language_info": {
      "name": "python"
    }
  },
  "cells": [
    {
      "cell_type": "code",
      "execution_count": 21,
      "metadata": {
        "id": "LAnKKQ4YgQpo"
      },
      "outputs": [],
      "source": [
        "import pandas as pd\n",
        "import numpy as np"
      ]
    },
    {
      "cell_type": "code",
      "source": [
        "df = pd.read_csv('https://raw.githubusercontent.com/ybifoundation/Dataset/main/Bike%20Prices.csv')\n",
        "print(df.head())\n",
        "print(df.info())\n",
        "df = df.dropna()\n",
        "print(df.describe())"
      ],
      "metadata": {
        "colab": {
          "base_uri": "https://localhost:8080/"
        },
        "id": "thfmmwSTggHZ",
        "outputId": "1983b005-7817-4f11-f5d9-3eaadf98f4d2"
      },
      "execution_count": 22,
      "outputs": [
        {
          "output_type": "stream",
          "name": "stdout",
          "text": [
            "   Brand               Model  Selling_Price  Year Seller_Type      Owner  \\\n",
            "0    TVS          TVS XL 100          30000  2017  Individual  1st owner   \n",
            "1  Bajaj       Bajaj  ct 100          18000  2017  Individual  1st owner   \n",
            "2     Yo            Yo Style          20000  2011  Individual  1st owner   \n",
            "3  Bajaj  Bajaj Discover 100          25000  2010  Individual  1st owner   \n",
            "4  Bajaj  Bajaj Discover 100          24999  2012  Individual  2nd owner   \n",
            "\n",
            "   KM_Driven  Ex_Showroom_Price  \n",
            "0       8000            30490.0  \n",
            "1      35000            32000.0  \n",
            "2      10000            37675.0  \n",
            "3      43000            42859.0  \n",
            "4      35000            42859.0  \n",
            "<class 'pandas.core.frame.DataFrame'>\n",
            "RangeIndex: 1061 entries, 0 to 1060\n",
            "Data columns (total 8 columns):\n",
            " #   Column             Non-Null Count  Dtype  \n",
            "---  ------             --------------  -----  \n",
            " 0   Brand              1061 non-null   object \n",
            " 1   Model              1061 non-null   object \n",
            " 2   Selling_Price      1061 non-null   int64  \n",
            " 3   Year               1061 non-null   int64  \n",
            " 4   Seller_Type        1061 non-null   object \n",
            " 5   Owner              1061 non-null   object \n",
            " 6   KM_Driven          1061 non-null   int64  \n",
            " 7   Ex_Showroom_Price  626 non-null    float64\n",
            "dtypes: float64(1), int64(3), object(4)\n",
            "memory usage: 66.4+ KB\n",
            "None\n",
            "       Selling_Price         Year      KM_Driven  Ex_Showroom_Price\n",
            "count     626.000000   626.000000     626.000000       6.260000e+02\n",
            "mean    59445.164537  2014.800319   32671.576677       8.795871e+04\n",
            "std     59904.350888     3.018885   45479.661039       7.749659e+04\n",
            "min      6000.000000  2001.000000     380.000000       3.049000e+04\n",
            "25%     30000.000000  2013.000000   13031.250000       5.485200e+04\n",
            "50%     45000.000000  2015.000000   25000.000000       7.275250e+04\n",
            "75%     65000.000000  2017.000000   40000.000000       8.703150e+04\n",
            "max    760000.000000  2020.000000  585659.000000       1.278000e+06\n"
          ]
        }
      ]
    },
    {
      "cell_type": "code",
      "source": [
        "print(df[['Brand']].value_counts())\n",
        "print(df[['Model']].value_counts())\n",
        "print(df[['Seller_Type']].value_counts())\n",
        "print(df[['Owner']].value_counts())"
      ],
      "metadata": {
        "colab": {
          "base_uri": "https://localhost:8080/"
        },
        "id": "jXjpFUg6hAaM",
        "outputId": "7bc43631-255d-47a4-fb3b-187ed043d0fe"
      },
      "execution_count": 23,
      "outputs": [
        {
          "output_type": "stream",
          "name": "stdout",
          "text": [
            "Brand   \n",
            "Honda       170\n",
            "Bajaj       143\n",
            "Hero        108\n",
            "Yamaha       94\n",
            "Royal        40\n",
            "TVS          23\n",
            "Suzuki       18\n",
            "KTM           6\n",
            "Mahindra      6\n",
            "Kawasaki      4\n",
            "UM            3\n",
            "Activa        3\n",
            "Harley        2\n",
            "Vespa         2\n",
            "BMW           1\n",
            "Hyosung       1\n",
            "Benelli       1\n",
            "Yo            1\n",
            "dtype: int64\n",
            "Model                                     \n",
            "Honda Activa [2000-2015]                      23\n",
            "Honda CB Hornet 160R                          22\n",
            "Bajaj Pulsar 180                              20\n",
            "Yamaha FZ S V 2.0                             16\n",
            "Bajaj Discover 125                            16\n",
            "                                              ..\n",
            "Royal Enfield Thunderbird 500                  1\n",
            "Royal Enfield Continental GT [2013 - 2018]     1\n",
            "Royal Enfield Classic Stealth Black            1\n",
            "Royal Enfield Classic Squadron Blue            1\n",
            "Yo Style                                       1\n",
            "Length: 183, dtype: int64\n",
            "Seller_Type\n",
            "Individual     623\n",
            "Dealer           3\n",
            "dtype: int64\n",
            "Owner    \n",
            "1st owner    556\n",
            "2nd owner     66\n",
            "3rd owner      3\n",
            "4th owner      1\n",
            "dtype: int64\n"
          ]
        }
      ]
    },
    {
      "cell_type": "code",
      "source": [
        "print(df.columns)\n",
        "print(df.shape)"
      ],
      "metadata": {
        "colab": {
          "base_uri": "https://localhost:8080/"
        },
        "id": "7GKQyilGglz5",
        "outputId": "58a22802-1fd2-4a91-966e-670c6dc7f409"
      },
      "execution_count": 24,
      "outputs": [
        {
          "output_type": "stream",
          "name": "stdout",
          "text": [
            "Index(['Brand', 'Model', 'Selling_Price', 'Year', 'Seller_Type', 'Owner',\n",
            "       'KM_Driven', 'Ex_Showroom_Price'],\n",
            "      dtype='object')\n",
            "(626, 8)\n"
          ]
        }
      ]
    },
    {
      "cell_type": "code",
      "source": [
        "df.replace({'Seller_Type':{'Individual':0, 'Dealer':1}}, inplace = True)\n",
        "df.replace({'Owner':{'1st Owner':0, '2nd Owner':1, '3rd Owner':2, '4th Owner':3}}, inplace = True)"
      ],
      "metadata": {
        "id": "Pfiq1qZshSEp"
      },
      "execution_count": 25,
      "outputs": []
    },
    {
      "cell_type": "code",
      "source": [
        "y = df['Selling_Price']\n",
        "print(y.shape)\n",
        "print(y)"
      ],
      "metadata": {
        "colab": {
          "base_uri": "https://localhost:8080/"
        },
        "id": "henPCbSGhw4E",
        "outputId": "8883854d-dc5e-44b9-bc7a-876809397509"
      },
      "execution_count": 26,
      "outputs": [
        {
          "output_type": "stream",
          "name": "stdout",
          "text": [
            "(626,)\n",
            "0       30000\n",
            "1       18000\n",
            "2       20000\n",
            "3       25000\n",
            "4       24999\n",
            "        ...  \n",
            "621    330000\n",
            "622    300000\n",
            "623    425000\n",
            "624    760000\n",
            "625    750000\n",
            "Name: Selling_Price, Length: 626, dtype: int64\n"
          ]
        }
      ]
    },
    {
      "cell_type": "code",
      "source": [
        "X = df[['Year', 'Seller_Type','KM_Driven', 'Ex_Showroom_Price']]\n",
        "print(X.shape)\n",
        "print(X)"
      ],
      "metadata": {
        "colab": {
          "base_uri": "https://localhost:8080/"
        },
        "id": "bl_5Q2ypiFrs",
        "outputId": "a6f6251e-a7c2-4be6-e93a-b488e7c18de7"
      },
      "execution_count": 27,
      "outputs": [
        {
          "output_type": "stream",
          "name": "stdout",
          "text": [
            "(626, 4)\n",
            "     Year  Seller_Type  KM_Driven  Ex_Showroom_Price\n",
            "0    2017            0       8000            30490.0\n",
            "1    2017            0      35000            32000.0\n",
            "2    2011            0      10000            37675.0\n",
            "3    2010            0      43000            42859.0\n",
            "4    2012            0      35000            42859.0\n",
            "..    ...          ...        ...                ...\n",
            "621  2014            0       6500           534000.0\n",
            "622  2011            0      12000           589000.0\n",
            "623  2017            0      13600           599000.0\n",
            "624  2019            0       2800           752020.0\n",
            "625  2013            0      12000          1278000.0\n",
            "\n",
            "[626 rows x 4 columns]\n"
          ]
        }
      ]
    },
    {
      "cell_type": "code",
      "source": [
        "from sklearn.model_selection import train_test_split\n",
        "X_train, X_test, y_train, y_test = train_test_split(X, y, test_size = 0.3, random_state = 19529)\n",
        "X_train.shape, X_test.shape, y_train.shape, y_test.shape"
      ],
      "metadata": {
        "colab": {
          "base_uri": "https://localhost:8080/"
        },
        "id": "c8H6cQC7lAnP",
        "outputId": "d0fca496-bfbd-4288-9bc6-0a9036794894"
      },
      "execution_count": 28,
      "outputs": [
        {
          "output_type": "execute_result",
          "data": {
            "text/plain": [
              "((438, 4), (188, 4), (438,), (188,))"
            ]
          },
          "metadata": {},
          "execution_count": 28
        }
      ]
    },
    {
      "cell_type": "code",
      "source": [
        "from sklearn.preprocessing import StandardScaler\n",
        "sc = StandardScaler()\n",
        "X_train = sc.fit_transform(X_train)\n",
        "X_test = sc.fit_transform(X_test)"
      ],
      "metadata": {
        "id": "R5MAS-vllFH2"
      },
      "execution_count": 29,
      "outputs": []
    },
    {
      "cell_type": "code",
      "source": [
        "from sklearn.linear_model import LinearRegression\n",
        "lr = LinearRegression()\n",
        "lr.fit(X_train, y_train)"
      ],
      "metadata": {
        "colab": {
          "base_uri": "https://localhost:8080/"
        },
        "id": "tdjdR4d1lJDZ",
        "outputId": "288786f5-8cdc-4536-fd48-529559bdea3f"
      },
      "execution_count": 30,
      "outputs": [
        {
          "output_type": "execute_result",
          "data": {
            "text/plain": [
              "LinearRegression()"
            ]
          },
          "metadata": {},
          "execution_count": 30
        }
      ]
    },
    {
      "cell_type": "code",
      "source": [
        "y_pred = lr.predict(X_test)\n",
        "print(y_pred.shape)\n",
        "print(y_pred)"
      ],
      "metadata": {
        "colab": {
          "base_uri": "https://localhost:8080/"
        },
        "id": "hDEBRGh7lfCB",
        "outputId": "f57b9668-4544-4de7-94eb-3a4cdde3e98b"
      },
      "execution_count": 31,
      "outputs": [
        {
          "output_type": "stream",
          "name": "stdout",
          "text": [
            "(188,)\n",
            "[ 8.91548810e+04  1.65183158e+05  9.20455762e+03  4.98010421e+04\n",
            "  1.61508108e+04  2.30320221e+04  2.24756989e+05  1.83483662e+04\n",
            "  1.58834039e+05  5.52410203e+04  1.17263718e+05  4.41806503e+04\n",
            "  4.54775910e+04  5.22927915e+04  2.87966616e+04  4.55758717e+04\n",
            " -1.58469198e+04  3.35764831e+04  7.44343222e+04  7.68676333e+04\n",
            "  1.29970553e+04  4.73859385e+04  1.58860185e+05  4.45976240e+04\n",
            "  9.22198807e+03  6.21218351e+04  1.11633913e+05  3.15599289e+04\n",
            "  1.89123932e+04  2.04176460e+05  9.05820113e+04  2.25944072e+05\n",
            "  2.22620325e+04  3.41536434e+04  4.01828223e+04  5.92098806e+04\n",
            "  1.81345820e+04  6.09533699e+04  3.35538165e+04  1.65229349e+05\n",
            "  9.73166515e+04  5.33447093e+04  1.79245718e+05  1.75307391e+04\n",
            "  1.90053556e+04 -2.08715963e+04  9.11993422e+04 -1.13992183e+04\n",
            "  4.91421552e+04  7.73881148e+04  9.73113584e+04  4.94170574e+04\n",
            "  2.84769337e+04  6.73060516e+04  3.84743303e+04  1.82263530e+04\n",
            "  6.73351023e+04  1.72288088e+04  6.71623214e+04  2.92250025e+04\n",
            "  4.77354489e+04  2.31927600e+04  1.07804885e+05  6.73214804e+04\n",
            "  2.14223178e+05  5.00710310e+04  2.92996222e+04  7.67659557e+04\n",
            "  1.40679994e+04  3.37804990e+04 -6.90372221e+02  4.31147113e+05\n",
            "  6.95158963e+04  6.72915262e+04  4.39977830e+04  2.53231960e+04\n",
            "  3.16030260e+04 -1.08950382e+04  8.75813187e+04  1.89533847e+04\n",
            "  1.93880577e+05  6.45494893e+04 -3.56698431e+03  4.55596529e+04\n",
            "  1.02966870e+05  6.80208898e+04  3.19922002e+04  1.65230180e+05\n",
            " -5.77662181e+03  2.12210298e+05  5.46312008e+04  4.26631144e+05\n",
            "  5.47209678e+04  2.14820174e+05  3.78048138e+04 -3.72033643e+02\n",
            "  4.24615471e+04  8.14341819e+04  3.18165469e+04  2.52316219e+04\n",
            "  8.49108421e+03  2.88053768e+04  8.15062277e+04  5.32665832e+04\n",
            "  8.56824211e+04  3.61644561e+04  1.00613812e+05  9.29997825e+03\n",
            "  1.90592870e+04 -2.08280202e+04 -1.13943389e+03  3.95952547e+04\n",
            "  3.03531268e+04  5.72753724e+04  5.26147036e+04  5.08133788e+04\n",
            "  7.73881148e+04  2.98901381e+04  4.81895184e+04  5.83117666e+04\n",
            "  1.73304864e+04  1.25284894e+05  1.25667619e+04  1.85031409e+05\n",
            "  5.62459758e+04 -1.27001584e+04  3.40984470e+04  8.84516443e+03\n",
            "  5.66669785e+04  6.12080053e+04  9.79685192e+04  1.13908474e+05\n",
            " -1.46497028e+03  6.73406307e+04  4.85387973e+04  2.20719211e+05\n",
            "  1.82420400e+04  1.81565556e+04  5.31812884e+04  3.07825614e+04\n",
            "  1.51346366e+05  3.90953573e+04  4.77627566e+04  1.52930450e+04\n",
            "  2.70657185e+04  8.75179881e+04 -6.23673724e+03  1.33587186e+04\n",
            "  1.80645641e+05  3.06746753e+04  4.13934912e+04  4.76406427e+04\n",
            "  5.16130927e+04  1.07925318e+04  2.59776103e+04  2.20366644e+04\n",
            "  3.48342398e+04  6.73292922e+04  6.01848424e+04  2.88576682e+04\n",
            "  2.03656517e+05  7.06127791e+04  2.59458122e+04  8.69200218e+04\n",
            "  7.14893980e+03  6.60445317e+04  3.06584280e+04  7.69469765e+04\n",
            "  2.43067929e+04  4.09185064e+04  5.12208428e+04  6.02157092e+04\n",
            "  9.14917393e+04  2.81864742e+04  6.35310802e+04  5.00707597e+04\n",
            "  6.51076732e+04  8.15039037e+04 -1.28629148e+04  9.66442487e+03\n",
            "  6.98295964e+04  7.27398579e+04  2.01353555e+04  1.30958278e+04\n",
            "  8.65456679e+04  6.39080006e+04  3.91804064e+04  7.81904015e+04]\n"
          ]
        }
      ]
    },
    {
      "cell_type": "code",
      "source": [
        "from sklearn.metrics import mean_squared_error, mean_absolute_error, r2_score\n",
        "print(mean_squared_error(y_test, y_pred))\n",
        "print(mean_absolute_error(y_test, y_pred))\n",
        "print(r2_score(y_test, y_pred))"
      ],
      "metadata": {
        "colab": {
          "base_uri": "https://localhost:8080/"
        },
        "id": "4Mt0-aAHloXE",
        "outputId": "6ad88381-d2af-4138-bc6f-cee7e7ff24f9"
      },
      "execution_count": 32,
      "outputs": [
        {
          "output_type": "stream",
          "name": "stdout",
          "text": [
            "940915245.5768065\n",
            "19985.811793835976\n",
            "0.46331748483252555\n"
          ]
        }
      ]
    },
    {
      "cell_type": "code",
      "source": [
        "import matplotlib.pyplot as plt\n",
        "plt.scatter(y_test, y_pred)\n",
        "plt.xlabel('Actual Prices')\n",
        "plt.ylabel('Predicted Prices')\n",
        "plt.title('Actual Prive vs Predicted Price')\n",
        "plt.show()"
      ],
      "metadata": {
        "colab": {
          "base_uri": "https://localhost:8080/",
          "height": 295
        },
        "id": "QJwUoFIolvWb",
        "outputId": "7481b764-282a-40f3-e9c2-269190722c5d"
      },
      "execution_count": 33,
      "outputs": [
        {
          "output_type": "display_data",
          "data": {
            "text/plain": [
              "<Figure size 432x288 with 1 Axes>"
            ],
            "image/png": "[encoded data removed]"
          },
          "metadata": {
            "needs_background": "light"
          }
        }
      ]
    },
    {
      "cell_type": "code",
      "source": [
        "df_new = df.sample(1)\n",
        "print(df_new)\n",
        "print(df_new.shape)"
      ],
      "metadata": {
        "colab": {
          "base_uri": "https://localhost:8080/"
        },
        "id": "ViDeVzGcl9z1",
        "outputId": "2a57fede-e564-49df-c7f7-e4d9feb811c8"
      },
      "execution_count": 34,
      "outputs": [
        {
          "output_type": "stream",
          "name": "stdout",
          "text": [
            "     Brand                                       Model  Selling_Price  Year  \\\n",
            "613  Royal  Royal Enfield Continental GT [2013 - 2018]         110000  2014   \n",
            "\n",
            "     Seller_Type      Owner  KM_Driven  Ex_Showroom_Price  \n",
            "613            0  1st owner      12077           208902.0  \n",
            "(1, 8)\n"
          ]
        }
      ]
    },
    {
      "cell_type": "code",
      "source": [
        "X_new = df_new[['Year', 'Seller_Type','KM_Driven', 'Ex_Showroom_Price' ]]\n",
        "X_new = sc.fit_transform(X_new)\n",
        "y_pred_new = lr.predict(X_new)\n",
        "y_pred_new"
      ],
      "metadata": {
        "colab": {
          "base_uri": "https://localhost:8080/"
        },
        "id": "1h3UbsnRmDLX",
        "outputId": "14899aa0-be2b-42ec-eb0c-ea299968f3e3"
      },
      "execution_count": 35,
      "outputs": [
        {
          "output_type": "execute_result",
          "data": {
            "text/plain": [
              "array([62062.78310502])"
            ]
          },
          "metadata": {},
          "execution_count": 35
        }
      ]
    }
  ]
}